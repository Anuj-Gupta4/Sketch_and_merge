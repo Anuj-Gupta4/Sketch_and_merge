{
 "cells": [
  {
   "cell_type": "code",
   "execution_count": 1,
   "id": "43825bcc",
   "metadata": {},
   "outputs": [],
   "source": [
    "from PIL import Image"
   ]
  },
  {
   "cell_type": "code",
   "execution_count": 4,
   "id": "d8cde704",
   "metadata": {},
   "outputs": [],
   "source": [
    "#read iamges\n",
    "img = Image.open('csm.png')\n",
    "final_img = Image.open('final_image.jpg')"
   ]
  },
  {
   "cell_type": "code",
   "execution_count": 5,
   "id": "8f5af56b",
   "metadata": {},
   "outputs": [],
   "source": [
    "#get size of images\n",
    "img1_size = img.size\n",
    "img2_size = final_img.size"
   ]
  },
  {
   "cell_type": "code",
   "execution_count": 6,
   "id": "77b00e8e",
   "metadata": {},
   "outputs": [
    {
     "name": "stdout",
     "output_type": "stream",
     "text": [
      "Size of 1st image: (600, 800)\n",
      "Size of 2nd image: (600, 800)\n"
     ]
    }
   ],
   "source": [
    "print('Size of 1st image:', img1_size)\n",
    "print('Size of 2nd image:', img2_size)"
   ]
  },
  {
   "cell_type": "code",
   "execution_count": 12,
   "id": "d7b83ca2",
   "metadata": {},
   "outputs": [],
   "source": [
    "#create new white image\n",
    "new_image = Image.new('RGB',(2*img1_size[0], img1_size[1]), (250,250,250))"
   ]
  },
  {
   "cell_type": "code",
   "execution_count": 13,
   "id": "daf987da",
   "metadata": {},
   "outputs": [
    {
     "name": "stdout",
     "output_type": "stream",
     "text": [
      "Size of new image: (1200, 800)\n"
     ]
    }
   ],
   "source": [
    "print('Size of new image:', new_image.size)"
   ]
  },
  {
   "cell_type": "code",
   "execution_count": 15,
   "id": "57781ac1",
   "metadata": {},
   "outputs": [],
   "source": [
    "#add images to it\n",
    "new_image.paste(img, (0,0))\n",
    "new_image.paste(final_img, (img1_size[0],0))"
   ]
  },
  {
   "cell_type": "code",
   "execution_count": 18,
   "id": "88c6ad54",
   "metadata": {},
   "outputs": [],
   "source": [
    "new_image.save(\"Merged Image.jpg\", \"JPEG\")"
   ]
  },
  {
   "cell_type": "code",
   "execution_count": 19,
   "id": "53655fe8",
   "metadata": {},
   "outputs": [],
   "source": [
    "new_image.show()"
   ]
  },
  {
   "cell_type": "code",
   "execution_count": null,
   "id": "04a03417",
   "metadata": {},
   "outputs": [],
   "source": []
  }
 ],
 "metadata": {
  "kernelspec": {
   "display_name": "Python 3 (ipykernel)",
   "language": "python",
   "name": "python3"
  },
  "language_info": {
   "codemirror_mode": {
    "name": "ipython",
    "version": 3
   },
   "file_extension": ".py",
   "mimetype": "text/x-python",
   "name": "python",
   "nbconvert_exporter": "python",
   "pygments_lexer": "ipython3",
   "version": "3.9.12"
  }
 },
 "nbformat": 4,
 "nbformat_minor": 5
}
