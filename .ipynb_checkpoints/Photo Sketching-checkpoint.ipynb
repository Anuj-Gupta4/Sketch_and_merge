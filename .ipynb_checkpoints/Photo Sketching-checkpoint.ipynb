{
 "cells": [
  {
   "cell_type": "code",
   "execution_count": 1,
   "id": "896b532b",
   "metadata": {},
   "outputs": [],
   "source": [
    "import cv2"
   ]
  },
  {
   "cell_type": "code",
   "execution_count": 2,
   "id": "e9684691",
   "metadata": {},
   "outputs": [
    {
     "data": {
      "text/plain": [
       "numpy.ndarray"
      ]
     },
     "execution_count": 2,
     "metadata": {},
     "output_type": "execute_result"
    }
   ],
   "source": [
    "img = cv2.imread(\"csm.png\")\n",
    "type(img)"
   ]
  },
  {
   "cell_type": "code",
   "execution_count": 3,
   "id": "a71cf63f",
   "metadata": {},
   "outputs": [],
   "source": [
    "cv2.imshow('OG img',img) # displaying the original image\n",
    "cv2.waitKey(10000)\n",
    "cv2.destroyAllWindows()"
   ]
  },
  {
   "cell_type": "code",
   "execution_count": 4,
   "id": "ff7b8dc4",
   "metadata": {},
   "outputs": [],
   "source": [
    "img_grayed = cv2.cvtColor(img, cv2.COLOR_BGR2GRAY)\n",
    "#cvtColor() converts an input image from one color space to another. By converting it into grayscale we can have a \n",
    "#black and white image of our output"
   ]
  },
  {
   "cell_type": "code",
   "execution_count": 5,
   "id": "b5f89b11",
   "metadata": {},
   "outputs": [],
   "source": [
    "cv2.imshow('gray img',img_grayed) # displaying the grayscale image\n",
    "cv2.waitKey(10000)\n",
    "cv2.destroyAllWindows()"
   ]
  },
  {
   "cell_type": "code",
   "execution_count": 6,
   "id": "c03aa579",
   "metadata": {},
   "outputs": [],
   "source": [
    "img_inverted = cv2.bitwise_not(img_grayed)\n",
    "#The function bitwise_not() calculates per-element bit-wise inversion of the input, which makes brighter regions into \n",
    "#lighter and lighter regions into brighter, so we can find edges of the image very easily"
   ]
  },
  {
   "cell_type": "code",
   "execution_count": 7,
   "id": "d1a1128e",
   "metadata": {},
   "outputs": [],
   "source": [
    "cv2.imshow('Inverted Image', img_inverted)\n",
    "cv2.waitKey(10000)\n",
    "cv2.destroyAllWindows()"
   ]
  },
  {
   "cell_type": "code",
   "execution_count": 8,
   "id": "48d96626",
   "metadata": {},
   "outputs": [],
   "source": [
    "img_smoothing = cv2.GaussianBlur(img_inverted, (21,21), sigmaX=0, sigmaY=0)\n",
    "#GaussianBlur fxn reduces any noises of the images and blurring smoothens the source image with the specified Gaussian \n",
    "#kernel. we have supplied convolution kernel and degree of blur."
   ]
  },
  {
   "cell_type": "code",
   "execution_count": 9,
   "id": "34cb245f",
   "metadata": {},
   "outputs": [],
   "source": [
    "cv2.imshow(\"Smooth Image\", img_smoothing)\n",
    "cv2.waitKey(10000)\n",
    "cv2.destroyAllWindows()"
   ]
  },
  {
   "cell_type": "code",
   "execution_count": 10,
   "id": "3217f0ae",
   "metadata": {},
   "outputs": [
    {
     "data": {
      "text/plain": [
       "numpy.ndarray"
      ]
     },
     "execution_count": 10,
     "metadata": {},
     "output_type": "execute_result"
    }
   ],
   "source": [
    "def dodgeV2(x,y):\n",
    "    return cv2.divide(x,255-y,scale=256)\n",
    "final_img = dodgeV2(img_grayed,img_smoothing)\n",
    "type(final_img)\n",
    "#dodgeV2(): dividing the grayscale image by the inverse of the blurred image, remains with the highlights the boldest \n",
    "#edges."
   ]
  },
  {
   "cell_type": "code",
   "execution_count": 11,
   "id": "5bfbbef0",
   "metadata": {},
   "outputs": [],
   "source": [
    "cv2.imshow(\"Output Image\", final_img)\n",
    "cv2.waitKey(10000)\n",
    "cv2.destroyAllWindows()"
   ]
  },
  {
   "cell_type": "code",
   "execution_count": 12,
   "id": "8852fcb8",
   "metadata": {},
   "outputs": [],
   "source": [
    "#cv2.imwrite(\"final_image.jpg\",final_img)"
   ]
  }
 ],
 "metadata": {
  "kernelspec": {
   "display_name": "Python 3 (ipykernel)",
   "language": "python",
   "name": "python3"
  },
  "language_info": {
   "codemirror_mode": {
    "name": "ipython",
    "version": 3
   },
   "file_extension": ".py",
   "mimetype": "text/x-python",
   "name": "python",
   "nbconvert_exporter": "python",
   "pygments_lexer": "ipython3",
   "version": "3.9.12"
  }
 },
 "nbformat": 4,
 "nbformat_minor": 5
}
